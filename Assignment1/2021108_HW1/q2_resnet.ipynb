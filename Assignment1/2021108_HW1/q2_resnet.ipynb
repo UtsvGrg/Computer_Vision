{
 "cells": [
  {
   "cell_type": "code",
   "execution_count": 1,
   "metadata": {},
   "outputs": [],
   "source": [
    "import os\n",
    "from torchvision.models import resnet18, ResNet18_Weights\n",
    "from torchvision.io import read_image\n",
    "import torch\n",
    "from torch.utils.data import Dataset, DataLoader, random_split\n",
    "import matplotlib.pyplot as plt\n",
    "import torch\n",
    "import torch.nn as nn\n"
   ]
  },
  {
   "cell_type": "code",
   "execution_count": 2,
   "metadata": {},
   "outputs": [
    {
     "name": "stderr",
     "output_type": "stream",
     "text": [
      "Failed to detect the name of this notebook, you can set it manually with the WANDB_NOTEBOOK_NAME environment variable to enable code saving.\n",
      "\u001b[34m\u001b[1mwandb\u001b[0m: Currently logged in as: \u001b[33mutsav21108\u001b[0m (\u001b[33mutsv-grg\u001b[0m). Use \u001b[1m`wandb login --relogin`\u001b[0m to force relogin\n"
     ]
    },
    {
     "data": {
      "text/html": [
       "Tracking run with wandb version 0.16.3"
      ],
      "text/plain": [
       "<IPython.core.display.HTML object>"
      ]
     },
     "metadata": {},
     "output_type": "display_data"
    },
    {
     "data": {
      "text/html": [
       "Run data is saved locally in <code>/home/iiitd/Desktop/cv/wandb/run-20240218_202205-nnhkb5io</code>"
      ],
      "text/plain": [
       "<IPython.core.display.HTML object>"
      ]
     },
     "metadata": {},
     "output_type": "display_data"
    },
    {
     "data": {
      "text/html": [
       "Syncing run <strong><a href='https://wandb.ai/utsv-grg/cv_ass1/runs/nnhkb5io' target=\"_blank\">Q2_Resnet_normalized</a></strong> to <a href='https://wandb.ai/utsv-grg/cv_ass1' target=\"_blank\">Weights & Biases</a> (<a href='https://wandb.me/run' target=\"_blank\">docs</a>)<br/>"
      ],
      "text/plain": [
       "<IPython.core.display.HTML object>"
      ]
     },
     "metadata": {},
     "output_type": "display_data"
    },
    {
     "data": {
      "text/html": [
       " View project at <a href='https://wandb.ai/utsv-grg/cv_ass1' target=\"_blank\">https://wandb.ai/utsv-grg/cv_ass1</a>"
      ],
      "text/plain": [
       "<IPython.core.display.HTML object>"
      ]
     },
     "metadata": {},
     "output_type": "display_data"
    },
    {
     "data": {
      "text/html": [
       " View run at <a href='https://wandb.ai/utsv-grg/cv_ass1/runs/nnhkb5io' target=\"_blank\">https://wandb.ai/utsv-grg/cv_ass1/runs/nnhkb5io</a>"
      ],
      "text/plain": [
       "<IPython.core.display.HTML object>"
      ]
     },
     "metadata": {},
     "output_type": "display_data"
    }
   ],
   "source": [
    "import wandb\n",
    "\n",
    "wandb.login()\n",
    "wandb.init(\n",
    "    project=\"cv_ass1\", \n",
    "    name=f\"Q2_Resnet\", \n",
    "    config={\n",
    "    \"learning_rate\": 0.001,\n",
    "    \"architecture\": \"CNN\",\n",
    "    \"dataset\": \"Russian Wildlife Dataset\",\n",
    "    \"epochs\": 10,\n",
    "    })\n",
    "\n",
    "config = wandb.config   "
   ]
  },
  {
   "cell_type": "code",
   "execution_count": 3,
   "metadata": {},
   "outputs": [],
   "source": [
    "label_map = {'black_bear': 0, 'people': 1, 'birds': 2, 'dog': 3, 'brown_bear': 4, 'roe_deer': 5, 'wild_boar': 6, 'amur_tiger': 7, 'amur_leopard': 8, 'sika_deer': 9}\n",
    "target_size = (224,224)"
   ]
  },
  {
   "cell_type": "code",
   "execution_count": 4,
   "metadata": {},
   "outputs": [
    {
     "name": "stdout",
     "output_type": "stream",
     "text": [
      "ResNet(\n",
      "  (conv1): Conv2d(3, 64, kernel_size=(7, 7), stride=(2, 2), padding=(3, 3), bias=False)\n",
      "  (bn1): BatchNorm2d(64, eps=1e-05, momentum=0.1, affine=True, track_running_stats=True)\n",
      "  (relu): ReLU(inplace=True)\n",
      "  (maxpool): MaxPool2d(kernel_size=3, stride=2, padding=1, dilation=1, ceil_mode=False)\n",
      "  (layer1): Sequential(\n",
      "    (0): BasicBlock(\n",
      "      (conv1): Conv2d(64, 64, kernel_size=(3, 3), stride=(1, 1), padding=(1, 1), bias=False)\n",
      "      (bn1): BatchNorm2d(64, eps=1e-05, momentum=0.1, affine=True, track_running_stats=True)\n",
      "      (relu): ReLU(inplace=True)\n",
      "      (conv2): Conv2d(64, 64, kernel_size=(3, 3), stride=(1, 1), padding=(1, 1), bias=False)\n",
      "      (bn2): BatchNorm2d(64, eps=1e-05, momentum=0.1, affine=True, track_running_stats=True)\n",
      "    )\n",
      "    (1): BasicBlock(\n",
      "      (conv1): Conv2d(64, 64, kernel_size=(3, 3), stride=(1, 1), padding=(1, 1), bias=False)\n",
      "      (bn1): BatchNorm2d(64, eps=1e-05, momentum=0.1, affine=True, track_running_stats=True)\n",
      "      (relu): ReLU(inplace=True)\n",
      "      (conv2): Conv2d(64, 64, kernel_size=(3, 3), stride=(1, 1), padding=(1, 1), bias=False)\n",
      "      (bn2): BatchNorm2d(64, eps=1e-05, momentum=0.1, affine=True, track_running_stats=True)\n",
      "    )\n",
      "  )\n",
      "  (layer2): Sequential(\n",
      "    (0): BasicBlock(\n",
      "      (conv1): Conv2d(64, 128, kernel_size=(3, 3), stride=(2, 2), padding=(1, 1), bias=False)\n",
      "      (bn1): BatchNorm2d(128, eps=1e-05, momentum=0.1, affine=True, track_running_stats=True)\n",
      "      (relu): ReLU(inplace=True)\n",
      "      (conv2): Conv2d(128, 128, kernel_size=(3, 3), stride=(1, 1), padding=(1, 1), bias=False)\n",
      "      (bn2): BatchNorm2d(128, eps=1e-05, momentum=0.1, affine=True, track_running_stats=True)\n",
      "      (downsample): Sequential(\n",
      "        (0): Conv2d(64, 128, kernel_size=(1, 1), stride=(2, 2), bias=False)\n",
      "        (1): BatchNorm2d(128, eps=1e-05, momentum=0.1, affine=True, track_running_stats=True)\n",
      "      )\n",
      "    )\n",
      "    (1): BasicBlock(\n",
      "      (conv1): Conv2d(128, 128, kernel_size=(3, 3), stride=(1, 1), padding=(1, 1), bias=False)\n",
      "      (bn1): BatchNorm2d(128, eps=1e-05, momentum=0.1, affine=True, track_running_stats=True)\n",
      "      (relu): ReLU(inplace=True)\n",
      "      (conv2): Conv2d(128, 128, kernel_size=(3, 3), stride=(1, 1), padding=(1, 1), bias=False)\n",
      "      (bn2): BatchNorm2d(128, eps=1e-05, momentum=0.1, affine=True, track_running_stats=True)\n",
      "    )\n",
      "  )\n",
      "  (layer3): Sequential(\n",
      "    (0): BasicBlock(\n",
      "      (conv1): Conv2d(128, 256, kernel_size=(3, 3), stride=(2, 2), padding=(1, 1), bias=False)\n",
      "      (bn1): BatchNorm2d(256, eps=1e-05, momentum=0.1, affine=True, track_running_stats=True)\n",
      "      (relu): ReLU(inplace=True)\n",
      "      (conv2): Conv2d(256, 256, kernel_size=(3, 3), stride=(1, 1), padding=(1, 1), bias=False)\n",
      "      (bn2): BatchNorm2d(256, eps=1e-05, momentum=0.1, affine=True, track_running_stats=True)\n",
      "      (downsample): Sequential(\n",
      "        (0): Conv2d(128, 256, kernel_size=(1, 1), stride=(2, 2), bias=False)\n",
      "        (1): BatchNorm2d(256, eps=1e-05, momentum=0.1, affine=True, track_running_stats=True)\n",
      "      )\n",
      "    )\n",
      "    (1): BasicBlock(\n",
      "      (conv1): Conv2d(256, 256, kernel_size=(3, 3), stride=(1, 1), padding=(1, 1), bias=False)\n",
      "      (bn1): BatchNorm2d(256, eps=1e-05, momentum=0.1, affine=True, track_running_stats=True)\n",
      "      (relu): ReLU(inplace=True)\n",
      "      (conv2): Conv2d(256, 256, kernel_size=(3, 3), stride=(1, 1), padding=(1, 1), bias=False)\n",
      "      (bn2): BatchNorm2d(256, eps=1e-05, momentum=0.1, affine=True, track_running_stats=True)\n",
      "    )\n",
      "  )\n",
      "  (layer4): Sequential(\n",
      "    (0): BasicBlock(\n",
      "      (conv1): Conv2d(256, 512, kernel_size=(3, 3), stride=(2, 2), padding=(1, 1), bias=False)\n",
      "      (bn1): BatchNorm2d(512, eps=1e-05, momentum=0.1, affine=True, track_running_stats=True)\n",
      "      (relu): ReLU(inplace=True)\n",
      "      (conv2): Conv2d(512, 512, kernel_size=(3, 3), stride=(1, 1), padding=(1, 1), bias=False)\n",
      "      (bn2): BatchNorm2d(512, eps=1e-05, momentum=0.1, affine=True, track_running_stats=True)\n",
      "      (downsample): Sequential(\n",
      "        (0): Conv2d(256, 512, kernel_size=(1, 1), stride=(2, 2), bias=False)\n",
      "        (1): BatchNorm2d(512, eps=1e-05, momentum=0.1, affine=True, track_running_stats=True)\n",
      "      )\n",
      "    )\n",
      "    (1): BasicBlock(\n",
      "      (conv1): Conv2d(512, 512, kernel_size=(3, 3), stride=(1, 1), padding=(1, 1), bias=False)\n",
      "      (bn1): BatchNorm2d(512, eps=1e-05, momentum=0.1, affine=True, track_running_stats=True)\n",
      "      (relu): ReLU(inplace=True)\n",
      "      (conv2): Conv2d(512, 512, kernel_size=(3, 3), stride=(1, 1), padding=(1, 1), bias=False)\n",
      "      (bn2): BatchNorm2d(512, eps=1e-05, momentum=0.1, affine=True, track_running_stats=True)\n",
      "    )\n",
      "  )\n",
      "  (avgpool): AdaptiveAvgPool2d(output_size=(1, 1))\n",
      "  (fc): Linear(in_features=512, out_features=10, bias=True)\n",
      ")\n"
     ]
    }
   ],
   "source": [
    "weights = ResNet18_Weights.DEFAULT\n",
    "preprocess = weights.transforms()\n",
    "model = resnet18(weights=weights)\n",
    "model.fc = nn.Linear(512,10,bias=True)\n",
    "print(model)"
   ]
  },
  {
   "cell_type": "code",
   "execution_count": 5,
   "metadata": {},
   "outputs": [],
   "source": [
    "class RussianWildlifeDataset(Dataset):\n",
    "\n",
    "    def __init__(self, img_dir):\n",
    "\n",
    "        self.img_dir = img_dir\n",
    "        self.data_list = []\n",
    "        for label in os.listdir(self.img_dir):\n",
    "            for file in os.listdir(os.path.join(self.img_dir,label)):\n",
    "                self.data_list.append((file,label))\n",
    "\n",
    "    def __len__(self):\n",
    "\n",
    "        return len(self.data_list)\n",
    "\n",
    "    def __getitem__(self, idx):\n",
    "\n",
    "        file_name, label = self.data_list[idx]\n",
    "        img_path = os.path.join(self.img_dir, label, file_name)\n",
    "        img = read_image(img_path)\n",
    "        img = preprocess(img)\n",
    "        return img, label_map[label]"
   ]
  },
  {
   "cell_type": "code",
   "execution_count": 6,
   "metadata": {},
   "outputs": [
    {
     "name": "stdout",
     "output_type": "stream",
     "text": [
      "12825\n"
     ]
    }
   ],
   "source": [
    "data = RussianWildlifeDataset('data')\n",
    "print(len(data))"
   ]
  },
  {
   "cell_type": "code",
   "execution_count": 7,
   "metadata": {},
   "outputs": [
    {
     "name": "stdout",
     "output_type": "stream",
     "text": [
      "8977 1282 2566\n"
     ]
    }
   ],
   "source": [
    "train_size = int(0.7 * len(data))\n",
    "val_size = int(0.1 * len(data))\n",
    "test_size = len(data) - train_size - val_size\n",
    "\n",
    "train_set, val_set, test_set = random_split(data, [train_size, val_size, test_size])\n",
    "\n",
    "train_loader = DataLoader(train_set, batch_size=32, shuffle=True, num_workers=8)\n",
    "val_loader = DataLoader(val_set, batch_size=32, shuffle=False, num_workers=8)\n",
    "test_loader = DataLoader(test_set, batch_size=32, shuffle=False, num_workers=8)\n",
    "\n",
    "print(len(train_set), len(val_set), len(test_set))"
   ]
  },
  {
   "cell_type": "code",
   "execution_count": 8,
   "metadata": {},
   "outputs": [],
   "source": [
    "device = \"cuda\" if torch.cuda.is_available() else \"cpu\"\n",
    "\n",
    "criterion = nn.CrossEntropyLoss()\n",
    "optimizer = torch.optim.Adam(model.parameters(), lr=0.001)"
   ]
  },
  {
   "cell_type": "code",
   "execution_count": 9,
   "metadata": {},
   "outputs": [
    {
     "name": "stdout",
     "output_type": "stream",
     "text": [
      "Started Training\n",
      "Training for epoch:  0\n",
      "EPOCH: 0\n",
      "Average train loss: 1.0556671603562984\n",
      "Average val loss: 0.9650225795450664\n",
      "Training for epoch:  1\n",
      "EPOCH: 1\n",
      "Average train loss: 0.6905027204160149\n",
      "Average val loss: 0.7942034261567252\n",
      "Training for epoch:  2\n",
      "EPOCH: 2\n",
      "Average train loss: 0.5064740311486501\n",
      "Average val loss: 0.7844162072759078\n",
      "Training for epoch:  3\n",
      "EPOCH: 3\n",
      "Average train loss: 0.4022998444418958\n",
      "Average val loss: 0.735050210640544\n",
      "Training for epoch:  4\n",
      "EPOCH: 4\n",
      "Average train loss: 0.31231757969403945\n",
      "Average val loss: 0.7088772805318946\n",
      "Training for epoch:  5\n",
      "EPOCH: 5\n",
      "Average train loss: 0.25202702022164214\n",
      "Average val loss: 0.597333097719543\n",
      "Training for epoch:  6\n",
      "EPOCH: 6\n",
      "Average train loss: 0.221102187409997\n",
      "Average val loss: 0.6825073936155864\n",
      "Training for epoch:  7\n",
      "EPOCH: 7\n",
      "Average train loss: 0.1580125565561367\n",
      "Average val loss: 0.6347895759446103\n",
      "Training for epoch:  8\n",
      "EPOCH: 8\n",
      "Average train loss: 0.11987939808874372\n",
      "Average val loss: 0.7144115276279903\n",
      "Training for epoch:  9\n",
      "EPOCH: 9\n",
      "Average train loss: 0.12377726376479399\n",
      "Average val loss: 0.7709608546214267\n",
      "Finished Training\n"
     ]
    }
   ],
   "source": [
    "n_epoch = 10\n",
    "save_loss = 99999\n",
    "\n",
    "print(\"Started Training\")\n",
    "\n",
    "for epoch in range(n_epoch):\n",
    "    print('Training for epoch: ', epoch)\n",
    "\n",
    "    model.train()\n",
    "    tloss = 0\n",
    "    tstep = 0\n",
    "\n",
    "    for i, data in enumerate(train_loader, 0):\n",
    "        img, label = data\n",
    "        inputs = img.to(device)\n",
    "        labels = label.to(device)\n",
    "        optimizer.zero_grad()\n",
    "\n",
    "        inputs = inputs.squeeze(1)\n",
    "        outputs = model(inputs)\n",
    "\n",
    "        train_loss =  criterion(outputs, labels)\n",
    "        train_loss.backward()\n",
    "        optimizer.step()\n",
    "        tstep+=1\n",
    "        tloss += train_loss.item()\n",
    "\n",
    "    tstep+=1\n",
    "    print('EPOCH:',epoch)\n",
    "    print('Average train loss:', tloss/tstep)\n",
    "\n",
    "    model.eval()\n",
    "    vloss = 0\n",
    "    vstep = 0\n",
    "\n",
    "    for i, data in enumerate(val_loader, 0):\n",
    "        img, label = data\n",
    "        inputs = img.to(device)\n",
    "        labels = label.to(device)\n",
    "\n",
    "        inputs = inputs.squeeze(1)\n",
    "        outputs = model(inputs)\n",
    "\n",
    "        val_loss =  criterion(outputs, labels)\n",
    "        vstep+=1\n",
    "        vloss += val_loss.item()\n",
    "\n",
    "    vstep+=1\n",
    "    print('Average val loss:', vloss/vstep)\n",
    "    if(vloss/vstep<save_loss):\n",
    "        save_loss = vloss/vstep\n",
    "        state = {'model': model.state_dict(), 'optimizer': optimizer.state_dict()}\n",
    "        torch.save(state, 'q2_resnet_best.pt')  \n",
    "\n",
    "    log_metric = {\"Epoch\":epoch, \"Train Loss\": tloss/tstep, \"Val Loss\": vloss/vstep}\n",
    "    wandb.log(log_metric)\n",
    "        \n",
    "print(\"Finished Training\")"
   ]
  },
  {
   "cell_type": "code",
   "execution_count": 10,
   "metadata": {},
   "outputs": [],
   "source": [
    "state = {'model': model.state_dict(), 'optimizer': optimizer.state_dict()}\n",
    "torch.save(state, 'q2_resnet.pt')"
   ]
  },
  {
   "cell_type": "markdown",
   "metadata": {},
   "source": [
    "The train loss keeps on reducing on training after each epoch which is expected, but after epoch 4. The val loss starts increasing which increase to 2.03. Thus the model is overtrained now\n",
    "Only keeping the train limited to 5 epochs would have been ideal."
   ]
  },
  {
   "cell_type": "code",
   "execution_count": 17,
   "metadata": {},
   "outputs": [
    {
     "data": {
      "text/plain": [
       "<All keys matched successfully>"
      ]
     },
     "execution_count": 17,
     "metadata": {},
     "output_type": "execute_result"
    }
   ],
   "source": [
    "#In case best model is to be runned.\n",
    "model = resnet18()\n",
    "model.fc = nn.Linear(512,10,bias=True)\n",
    "state_dict = torch.load('q2_resnet_best.pt')\n",
    "model.load_state_dict(state_dict['model'])"
   ]
  },
  {
   "cell_type": "code",
   "execution_count": 18,
   "metadata": {},
   "outputs": [
    {
     "name": "stdout",
     "output_type": "stream",
     "text": [
      "Started Testing\n",
      "Finished Testing\n"
     ]
    }
   ],
   "source": [
    "print(\"Started Testing\")\n",
    "\n",
    "test_labels = []\n",
    "test_predictions = []\n",
    "\n",
    "model.eval()\n",
    "\n",
    "with torch.no_grad():\n",
    "    for i, data in enumerate(test_loader, 0):\n",
    "        img, labels = data\n",
    "        test_labels.extend(labels.numpy())\n",
    "\n",
    "        inputs = img.to(device)\n",
    "        inputs = inputs.squeeze(1)\n",
    "        \n",
    "        outputs = model(inputs).argmax(dim=1)\n",
    "        test_predictions.extend(outputs.numpy())\n",
    "        \n",
    "print(\"Finished Testing\")"
   ]
  },
  {
   "cell_type": "code",
   "execution_count": 19,
   "metadata": {},
   "outputs": [
    {
     "name": "stdout",
     "output_type": "stream",
     "text": [
      "Accuracy:  0.8347622759158223\n",
      "F1 Score:  0.8337948738866295\n",
      "[[134   0   5   4  52   1  11   1   1   2]\n",
      " [  0 247   7  11   3   8   2   4   2   8]\n",
      " [  3   2 267  18   3   1   6   3   1   5]\n",
      " [  4   2   7 195   5   7   6   7   1  16]\n",
      " [ 26   1   5   5 211   2  16   1   2   1]\n",
      " [  0   0   1   2   1 194   2   0   0   9]\n",
      " [  1   0   3   3   8   6 243   0   0   4]\n",
      " [  0   0   5  11   6   1   3 195   3   5]\n",
      " [  0   0   1   2   3   0   2   0 219   0]\n",
      " [  1   2  10  10   5  24   9   3   0 237]]\n"
     ]
    }
   ],
   "source": [
    "import numpy as np\n",
    "from sklearn.metrics import f1_score, confusion_matrix\n",
    "\n",
    "test_labels = np.array(test_labels)\n",
    "test_predictions = np.array(test_predictions)\n",
    "\n",
    "\n",
    "correct = (test_labels==test_predictions).sum()\n",
    "total = len(test_predictions)\n",
    "\n",
    "acc = correct/total\n",
    "f1score = f1_score(test_labels,test_predictions,average='macro')\n",
    "\n",
    "print(\"Accuracy: \", acc)\n",
    "print(\"F1 Score: \", f1score)\n",
    "\n",
    "cm = confusion_matrix(test_labels, test_predictions)\n",
    "# wandb.log({\"Accuracy\":acc, \"F1 Score\":f1score})\n",
    "print(cm)"
   ]
  },
  {
   "cell_type": "code",
   "execution_count": 20,
   "metadata": {},
   "outputs": [
    {
     "data": {
      "image/png": "[encoded data removed]",
      "text/plain": [
       "<Figure size 640x480 with 1 Axes>"
      ]
     },
     "metadata": {},
     "output_type": "display_data"
    }
   ],
   "source": [
    "plt.imshow(cm, cmap='Blues')\n",
    "plt.show(plt)\n",
    "# wandb.log({\"Confusion Matrix\": wandb.Image(plt)})"
   ]
  },
  {
   "cell_type": "code",
   "execution_count": 15,
   "metadata": {},
   "outputs": [
    {
     "data": {
      "text/html": [
       "<style>\n",
       "    table.wandb td:nth-child(1) { padding: 0 10px; text-align: left ; width: auto;} td:nth-child(2) {text-align: left ; width: 100%}\n",
       "    .wandb-row { display: flex; flex-direction: row; flex-wrap: wrap; justify-content: flex-start; width: 100% }\n",
       "    .wandb-col { display: flex; flex-direction: column; flex-basis: 100%; flex: 1; padding: 10px; }\n",
       "    </style>\n",
       "<div class=\"wandb-row\"><div class=\"wandb-col\"><h3>Run history:</h3><br/><table class=\"wandb\"><tr><td>Accuracy</td><td>▁</td></tr><tr><td>Epoch</td><td>▁▂▃▃▄▅▆▆▇█</td></tr><tr><td>F1 Score</td><td>▁</td></tr><tr><td>Train Loss</td><td>█▅▄▃▂▂▂▁▁▁</td></tr><tr><td>Val Loss</td><td>█▅▅▄▃▁▃▂▃▄</td></tr></table><br/></div><div class=\"wandb-col\"><h3>Run summary:</h3><br/><table class=\"wandb\"><tr><td>Accuracy</td><td>0.81645</td></tr><tr><td>Epoch</td><td>9</td></tr><tr><td>F1 Score</td><td>0.81725</td></tr><tr><td>Train Loss</td><td>0.12378</td></tr><tr><td>Val Loss</td><td>0.77096</td></tr></table><br/></div></div>"
      ],
      "text/plain": [
       "<IPython.core.display.HTML object>"
      ]
     },
     "metadata": {},
     "output_type": "display_data"
    },
    {
     "data": {
      "text/html": [
       " View run <strong style=\"color:#cdcd00\">Q2_Resnet_normalized</strong> at: <a href='https://wandb.ai/utsv-grg/cv_ass1/runs/nnhkb5io' target=\"_blank\">https://wandb.ai/utsv-grg/cv_ass1/runs/nnhkb5io</a><br/>Synced 6 W&B file(s), 1 media file(s), 0 artifact file(s) and 0 other file(s)"
      ],
      "text/plain": [
       "<IPython.core.display.HTML object>"
      ]
     },
     "metadata": {},
     "output_type": "display_data"
    },
    {
     "data": {
      "text/html": [
       "Find logs at: <code>./wandb/run-20240218_202205-nnhkb5io/logs</code>"
      ],
      "text/plain": [
       "<IPython.core.display.HTML object>"
      ]
     },
     "metadata": {},
     "output_type": "display_data"
    }
   ],
   "source": [
    "wandb.finish()"
   ]
  }
 ],
 "metadata": {
  "kernelspec": {
   "display_name": "Python 3",
   "language": "python",
   "name": "python3"
  },
  "language_info": {
   "codemirror_mode": {
    "name": "ipython",
    "version": 3
   },
   "file_extension": ".py",
   "mimetype": "text/x-python",
   "name": "python",
   "nbconvert_exporter": "python",
   "pygments_lexer": "ipython3",
   "version": "3.8.18"
  }
 },
 "nbformat": 4,
 "nbformat_minor": 2
}
